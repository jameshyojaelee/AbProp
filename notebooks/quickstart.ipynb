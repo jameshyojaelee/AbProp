{
 "cells": [
  {
   "cell_type": "markdown",
   "metadata": {},
   "source": [
    "# AbProp Quickstart\n",
    "Install the package and run the reproduction script straight from Colab."
   ]
  },
  {
   "cell_type": "code",
   "execution_count": null,
   "metadata": {},
   "outputs": [],
   "source": [
    "!pip install git+https://github.com/abprop/abprop.git"
   ]
  },
  {
   "cell_type": "code",
   "execution_count": null,
   "metadata": {},
   "outputs": [],
   "source": [
    "# Example: fetch demo sequences and visualize attention\n",
    "import subprocess, textwrap\n",
    "from pathlib import Path\n",
    "\n",
    "repo = Path.cwd()\n",
    "(repo / \"examples\").mkdir(exist_ok=True)\n",
    "(repo / \"examples/attention_success.fa\").write_text(textwrap.dedent('''\n",
    ">attention_success\n",
    "EVQLVESGGGLVQPGGSLRLSCAASGFTFSSYAMHWVRQAPGKGLEWVGAIYPGNGDTSYNEKFKGKATLTADKSSNTAYLQMNSLRAEDTAVYYCARGRGYFDYWGQGTLVTVSS\n",
    "''').strip())\n",
    "subprocess.run([\"python\", \"scripts/visualize_attention.py\",\n",
    "                \"--checkpoint\", \"outputs/real_data_run/checkpoints/best.pt\",\n",
    "                \"--sequence\", \"examples/attention_success.fa\",\n",
    "                \"--output\", \"outputs/attention\",\n",
    "                \"--label\", \"colab\"], check=False)"]
  }
 ],
 "metadata": {
  "kernelspec": {
   "display_name": "Python 3",
   "language": "python",
   "name": "python3"
  },
  "language_info": {
   "name": "python",
   "version": "3.10"
  }
 },
 "nbformat": 4,
 "nbformat_minor": 5
}
